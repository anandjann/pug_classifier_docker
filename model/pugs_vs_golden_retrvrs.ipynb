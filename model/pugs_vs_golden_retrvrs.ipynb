{
 "cells": [
  {
   "cell_type": "code",
   "execution_count": null,
   "metadata": {
    "collapsed": false
   },
   "outputs": [],
   "source": [
    "import os\n",
    "import pickle\n",
    "import numpy as np\n",
    "import matplotlib.pyplot as plt\n",
    "import seaborn as sns\n",
    "from skimage import io\n",
    "from sklearn.cross_validation import train_test_split\n",
    "\n",
    "from keras.models import Sequential, model_from_json\n",
    "from keras.layers.core import Dense, Dropout, Flatten\n",
    "from keras.layers.convolutional import Convolution2D, MaxPooling2D, ZeroPadding2D\n",
    "from keras.optimizers import SGD\n",
    "from keras.utils import np_utils"
   ]
  },
  {
   "cell_type": "code",
   "execution_count": null,
   "metadata": {
    "collapsed": true
   },
   "outputs": [],
   "source": [
    "%matplotlib inline"
   ]
  },
  {
   "cell_type": "code",
   "execution_count": null,
   "metadata": {
    "collapsed": true
   },
   "outputs": [],
   "source": [
    "PUG_IMG_DIR = \"../data/pugs_cropped\"\n",
    "GOLDEN_RETRVR_IMG_DIR = \"../data/golden_retrievers_cropped\"\n",
    "IMG_ROWS, IMG_COLS = 224, 224\n",
    "IMG_CHANNELS = 3"
   ]
  },
  {
   "cell_type": "markdown",
   "metadata": {},
   "source": [
    "## Read Image Files and Generate a Pickled Dataset..."
   ]
  },
  {
   "cell_type": "code",
   "execution_count": null,
   "metadata": {
    "collapsed": false
   },
   "outputs": [],
   "source": [
    "n_pug_images = len(os.listdir(PUG_IMG_DIR))\n",
    "pug_images = np.empty((n_pug_images, IMG_CHANNELS, IMG_ROWS, IMG_COLS), dtype=\"uint8\")\n",
    "\n",
    "n_golden_retrvr_images = len(os.listdir(GOLDEN_RETRVR_IMG_DIR))\n",
    "golden_retrvr_images = np.empty((n_golden_retrvr_images, IMG_CHANNELS, IMG_ROWS, IMG_COLS), dtype=\"uint8\")"
   ]
  },
  {
   "cell_type": "code",
   "execution_count": null,
   "metadata": {
    "collapsed": false
   },
   "outputs": [],
   "source": [
    "for n, image in enumerate(os.listdir(PUG_IMG_DIR)):\n",
    "    pug_images[n] = io.imread(PUG_IMG_DIR+\"/\"+image).transpose()\n",
    "\n",
    "for n, image in enumerate(os.listdir(GOLDEN_RETRVR_IMG_DIR)):\n",
    "    golden_retrvr_images[n] = io.imread(GOLDEN_RETRVR_IMG_DIR+\"/\"+image).transpose()"
   ]
  },
  {
   "cell_type": "code",
   "execution_count": null,
   "metadata": {
    "collapsed": false
   },
   "outputs": [],
   "source": [
    "print(pug_images.shape)\n",
    "print(golden_retrvr_images.shape)"
   ]
  },
  {
   "cell_type": "code",
   "execution_count": null,
   "metadata": {
    "collapsed": false
   },
   "outputs": [],
   "source": [
    "pug_labels = np.ones(n_pug_images)\n",
    "golden_retrvr_labels = np.zeros(n_golden_retrvr_images)"
   ]
  },
  {
   "cell_type": "code",
   "execution_count": null,
   "metadata": {
    "collapsed": false
   },
   "outputs": [],
   "source": [
    "plt.axis('off')\n",
    "plt.imshow(pug_images[921].transpose())"
   ]
  },
  {
   "cell_type": "code",
   "execution_count": null,
   "metadata": {
    "collapsed": false
   },
   "outputs": [],
   "source": [
    "plt.axis('off')\n",
    "plt.imshow(golden_retrvr_images[921].transpose())"
   ]
  },
  {
   "cell_type": "code",
   "execution_count": null,
   "metadata": {
    "collapsed": false
   },
   "outputs": [],
   "source": [
    "X = np.concatenate([pug_images, golden_retrvr_images])\n",
    "y = np.concatenate([pug_labels, golden_retrvr_labels])"
   ]
  },
  {
   "cell_type": "code",
   "execution_count": null,
   "metadata": {
    "collapsed": false
   },
   "outputs": [],
   "source": [
    "X_train, X_test, y_train, y_test = train_test_split(X, y, train_size=0.75, stratify=y)"
   ]
  },
  {
   "cell_type": "code",
   "execution_count": null,
   "metadata": {
    "collapsed": false
   },
   "outputs": [],
   "source": [
    "with open(\"../data/pugs_vs_golden_retrvrs_data.pkl.gz\", \"wb\") as pickle_file:\n",
    "    pickle.dump((X_train, X_test, y_train, y_test), pickle_file)"
   ]
  },
  {
   "cell_type": "markdown",
   "metadata": {},
   "source": [
    "## ...Or Load the Pickled Dataset Directly"
   ]
  },
  {
   "cell_type": "code",
   "execution_count": null,
   "metadata": {
    "collapsed": false
   },
   "outputs": [],
   "source": [
    "with open(\"../data/pugs_vs_golden_retrvrs_data.pkl.gz\", \"rb\") as pickle_file:\n",
    "    X_train, X_test, y_train, y_test = pickle.load(pickle_file)"
   ]
  },
  {
   "cell_type": "markdown",
   "metadata": {},
   "source": [
    "## Define and Train the Neural Network"
   ]
  },
  {
   "cell_type": "code",
   "execution_count": null,
   "metadata": {
    "collapsed": true
   },
   "outputs": [],
   "source": [
    "# we're going to use a pre-trained deep network and chop off the\n",
    "# last dense layer; we'll freeze the weights in the early layers\n",
    "# and then train just the final set of dense weights\n",
    "# see https://gist.github.com/baraldilorenzo/07d7802847aaad0a35d3\n",
    "def VGG_16(weights_path=None):\n",
    "    model = Sequential()\n",
    "    model.add(ZeroPadding2D((1,1),input_shape=(IMG_CHANNELS, IMG_ROWS, IMG_COLS), trainable=False))\n",
    "    model.add(Convolution2D(64, 3, 3, activation='relu', trainable=False))\n",
    "    model.add(ZeroPadding2D((1,1), trainable=False))\n",
    "    model.add(Convolution2D(64, 3, 3, activation='relu', trainable=False))\n",
    "    model.add(MaxPooling2D((2,2), strides=(2,2), trainable=False))\n",
    "\n",
    "    model.add(ZeroPadding2D((1,1)))\n",
    "    model.add(Convolution2D(128, 3, 3, activation='relu', trainable=False))\n",
    "    model.add(ZeroPadding2D((1,1), trainable=False))\n",
    "    model.add(Convolution2D(128, 3, 3, activation='relu', trainable=False))\n",
    "    model.add(MaxPooling2D((2,2), strides=(2,2), trainable=False))\n",
    "\n",
    "    model.add(ZeroPadding2D((1,1), trainable=False))\n",
    "    model.add(Convolution2D(256, 3, 3, activation='relu', trainable=False))\n",
    "    model.add(ZeroPadding2D((1,1), trainable=False))\n",
    "    model.add(Convolution2D(256, 3, 3, activation='relu', trainable=False))\n",
    "    model.add(ZeroPadding2D((1,1), trainable=False))\n",
    "    model.add(Convolution2D(256, 3, 3, activation='relu', trainable=False))\n",
    "    model.add(MaxPooling2D((2,2), strides=(2,2), trainable=False))\n",
    "\n",
    "    model.add(ZeroPadding2D((1,1), trainable=False))\n",
    "    model.add(Convolution2D(512, 3, 3, activation='relu', trainable=False))\n",
    "    model.add(ZeroPadding2D((1,1), trainable=False))\n",
    "    model.add(Convolution2D(512, 3, 3, activation='relu', trainable=False))\n",
    "    model.add(ZeroPadding2D((1,1), trainable=False))\n",
    "    model.add(Convolution2D(512, 3, 3, activation='relu', trainable=False))\n",
    "    model.add(MaxPooling2D((2,2), strides=(2,2), trainable=False))\n",
    "\n",
    "    model.add(ZeroPadding2D((1,1), trainable=False))\n",
    "    model.add(Convolution2D(512, 3, 3, activation='relu', trainable=False))\n",
    "    model.add(ZeroPadding2D((1,1), trainable=False))\n",
    "    model.add(Convolution2D(512, 3, 3, activation='relu', trainable=False))\n",
    "    model.add(ZeroPadding2D((1,1), trainable=False))\n",
    "    model.add(Convolution2D(512, 3, 3, activation='relu', trainable=False))\n",
    "    model.add(MaxPooling2D((2,2), strides=(2,2), trainable=False))\n",
    "\n",
    "    model.add(Flatten())\n",
    "    model.add(Dense(4096, activation='relu', trainable=False))\n",
    "    model.add(Dropout(0.5))\n",
    "    model.add(Dense(4096, activation='relu', trainable=False))\n",
    "    model.add(Dropout(0.5))\n",
    "    model.add(Dense(1000, activation='softmax'))\n",
    "\n",
    "    if weights_path:\n",
    "        model.load_weights(weights_path)\n",
    "\n",
    "    return model"
   ]
  },
  {
   "cell_type": "code",
   "execution_count": null,
   "metadata": {
    "collapsed": false
   },
   "outputs": [],
   "source": [
    "batch_size = 32\n",
    "n_classes = 2\n",
    "n_epochs = 10\n",
    "\n",
    "# load our pre-trained model\n",
    "model = VGG_16('./vgg16_weights.h5')\n",
    "\n",
    "# chop off the final layer\n",
    "model.layers = model.layers[:-1]\n",
    "\n",
    "# and add in a new one appropriate to our task\n",
    "model.add(Dense(n_classes, activation='softmax'))"
   ]
  },
  {
   "cell_type": "code",
   "execution_count": null,
   "metadata": {
    "collapsed": true
   },
   "outputs": [],
   "source": [
    "Y_train = np_utils.to_categorical(y_train, n_classes)\n",
    "Y_test = np_utils.to_categorical(y_test, n_classes)"
   ]
  },
  {
   "cell_type": "code",
   "execution_count": null,
   "metadata": {
    "collapsed": false
   },
   "outputs": [],
   "source": [
    "sgd = SGD(lr=0.0001, decay=1e-6, momentum=0.9, nesterov=True)\n",
    "model.compile(optimizer=sgd, loss='categorical_crossentropy')"
   ]
  },
  {
   "cell_type": "code",
   "execution_count": null,
   "metadata": {
    "collapsed": false
   },
   "outputs": [],
   "source": [
    "model.fit(X_train, Y_train, batch_size=batch_size,\n",
    "          nb_epoch=n_epochs, show_accuracy=True,\n",
    "          validation_data=(X_test, Y_test), shuffle=True)"
   ]
  },
  {
   "cell_type": "markdown",
   "metadata": {},
   "source": [
    "## Save the Neural Network"
   ]
  },
  {
   "cell_type": "code",
   "execution_count": null,
   "metadata": {
    "collapsed": false
   },
   "outputs": [],
   "source": [
    "json_string = model.to_json()\n",
    "open('./cnn_pug_model_architecture.json', 'w').write(json_string)\n",
    "model.save_weights('cnn_pug_model_weights.h5')"
   ]
  },
  {
   "cell_type": "code",
   "execution_count": null,
   "metadata": {
    "collapsed": true
   },
   "outputs": [],
   "source": []
  }
 ],
 "metadata": {
  "kernelspec": {
   "display_name": "Python 3",
   "language": "python",
   "name": "python3"
  },
  "language_info": {
   "codemirror_mode": {
    "name": "ipython",
    "version": 3
   },
   "file_extension": ".py",
   "mimetype": "text/x-python",
   "name": "python",
   "nbconvert_exporter": "python",
   "pygments_lexer": "ipython3",
   "version": "3.4.3"
  }
 },
 "nbformat": 4,
 "nbformat_minor": 0
}
